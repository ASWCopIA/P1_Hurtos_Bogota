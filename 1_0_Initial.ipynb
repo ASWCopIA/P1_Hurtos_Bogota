{
  "nbformat": 4,
  "nbformat_minor": 0,
  "metadata": {
    "language_info": {
      "codemirror_mode": {
        "name": "ipython",
        "version": 3
      },
      "file_extension": ".py",
      "mimetype": "text/x-python",
      "name": "python",
      "nbconvert_exporter": "python",
      "pygments_lexer": "ipython3",
      "version": "3.7.7-final"
    },
    "orig_nbformat": 2,
    "kernelspec": {
      "name": "python37764bitvenvvenv5c6a943a901c4cefa1e7cbfecfc93f0d",
      "display_name": "Python 3.7.7 64-bit ('.venv': venv)"
    },
    "colab": {
      "name": "Copia de 1.0-Initial.ipynb",
      "provenance": [],
      "collapsed_sections": [],
      "include_colab_link": true
    }
  },
  "cells": [
    {
      "cell_type": "markdown",
      "metadata": {
        "id": "view-in-github",
        "colab_type": "text"
      },
      "source": [
        "<a href=\"https://colab.research.google.com/github/ASWCopIA/P1_Hurtos_Bogota/blob/master/1_0_Initial.ipynb\" target=\"_parent\"><img src=\"https://colab.research.google.com/assets/colab-badge.svg\" alt=\"Open In Colab\"/></a>"
      ]
    },
    {
      "cell_type": "markdown",
      "metadata": {
        "id": "86wshXUukX6x",
        "colab_type": "text"
      },
      "source": [
        "<h1 style=\"text-align:center; color:#05ABE0\"> Comunidad de práctica IA </h1>\n",
        "\n",
        "### Recursos consultados\n",
        "\n",
        "* [Limpieza de datos](https://elitedatascience.com/data-cleaning)"
      ]
    },
    {
      "cell_type": "code",
      "metadata": {
        "id": "AjEqxzVjkX6y",
        "colab_type": "code",
        "colab": {}
      },
      "source": [
        "import pandas as pd\n",
        "import numpy as np\n",
        "from matplotlib import pyplot as plt\n",
        "import seaborn as sns"
      ],
      "execution_count": 0,
      "outputs": []
    },
    {
      "cell_type": "code",
      "metadata": {
        "id": "nmWUhsuNliyd",
        "colab_type": "code",
        "colab": {
          "base_uri": "https://localhost:8080/",
          "height": 34
        },
        "outputId": "2d5b35ea-c42b-4f4b-cb92-15d5abbcda29"
      },
      "source": [
        "from google.colab import drive\n",
        "drive.mount('/content/drive')"
      ],
      "execution_count": 148,
      "outputs": [
        {
          "output_type": "stream",
          "text": [
            "Drive already mounted at /content/drive; to attempt to forcibly remount, call drive.mount(\"/content/drive\", force_remount=True).\n"
          ],
          "name": "stdout"
        }
      ]
    },
    {
      "cell_type": "code",
      "metadata": {
        "id": "J6eVS3hskX63",
        "colab_type": "code",
        "colab": {}
      },
      "source": [
        "# Cargar el dataset de hurtos filtrados por el municipio de Bogota\n",
        "data = pd.read_excel('/content/drive/My Drive/hurtos_bogota_2010-2019.xlsx')"
      ],
      "execution_count": 0,
      "outputs": []
    },
    {
      "cell_type": "code",
      "metadata": {
        "id": "KTyOzZAjkX68",
        "colab_type": "code",
        "outputId": "78e29262-bed4-4545-8b06-8534dd239c6d",
        "colab": {
          "base_uri": "https://localhost:8080/",
          "height": 221
        }
      },
      "source": [
        "# data[\"Hora\"].str.split(':', expand=True)\n",
        "pd.to_datetime(data[\"Hora\"]).dt.hour"
      ],
      "execution_count": 150,
      "outputs": [
        {
          "output_type": "execute_result",
          "data": {
            "text/plain": [
              "0          0\n",
              "1         14\n",
              "2          9\n",
              "3         19\n",
              "4         20\n",
              "          ..\n",
              "483727    14\n",
              "483728     4\n",
              "483729     4\n",
              "483730     9\n",
              "483731    12\n",
              "Name: Hora, Length: 483732, dtype: int64"
            ]
          },
          "metadata": {
            "tags": []
          },
          "execution_count": 150
        }
      ]
    },
    {
      "cell_type": "code",
      "metadata": {
        "id": "wBJ1_Ebg1cdv",
        "colab_type": "code",
        "colab": {}
      },
      "source": [
        "data[\"Periodo_dia\"] = None\n",
        "data.loc[data[(data[\"Hora\"] >= \"00:00:00\") &  (data[\"Hora\"] < \"06:00:00\")].index, \"Periodo_dia\"] = \"Madrugada\"\n",
        "data.loc[data[(data[\"Hora\"] >= \"06:00:00\") &  (data[\"Hora\"] < \"12:00:00\")].index, \"Periodo_dia\"] = \"Mañana\"\n",
        "data.loc[data[(data[\"Hora\"] >= \"12:00:00\") &  (data[\"Hora\"] < \"19:00:00\")].index, \"Periodo_dia\"] = \"Tarde\"\n",
        "data.loc[data[(data[\"Hora\"] >= \"19:00:00\") &  (data[\"Hora\"] <= \"23:59:59\")].index, \"Periodo_dia\"] = \"Noche\""
      ],
      "execution_count": 0,
      "outputs": []
    },
    {
      "cell_type": "code",
      "metadata": {
        "id": "Wp_nNPNt-I1L",
        "colab_type": "code",
        "colab": {
          "base_uri": "https://localhost:8080/",
          "height": 119
        },
        "outputId": "f79cf9ed-4a69-48f7-d9f3-b0c952a605f6"
      },
      "source": [
        "data.groupby(\"Periodo_dia\").size()"
      ],
      "execution_count": 152,
      "outputs": [
        {
          "output_type": "execute_result",
          "data": {
            "text/plain": [
              "Periodo_dia\n",
              "Madrugada     93037\n",
              "Mañana       137605\n",
              "Noche         93098\n",
              "Tarde        159992\n",
              "dtype: int64"
            ]
          },
          "metadata": {
            "tags": []
          },
          "execution_count": 152
        }
      ]
    },
    {
      "cell_type": "code",
      "metadata": {
        "id": "86fVAOZUB1S-",
        "colab_type": "code",
        "colab": {
          "base_uri": "https://localhost:8080/",
          "height": 340
        },
        "outputId": "93df490a-abf8-460f-8a80-a98ea6dbdd8f"
      },
      "source": [
        " categories = [\"Lunes\", \"Martes\", \"Miércoles\", \"Jueves\", \"Viernes\", \"Sábado\", \"Domingo\"]\n",
        " data[\"Día\"] = pd.Categorical(data[\"Día\"], categories=categories, ordered=True)\n",
        " print(f'Valores del día (int) \\n{data[\"Día\"].cat.codes.value_counts()}')\n",
        " print(f'{\"=+=+\"*10}')\n",
        " print(f'Valores del día (str) \\n{data[\"Día\"].value_counts()}')"
      ],
      "execution_count": 153,
      "outputs": [
        {
          "output_type": "stream",
          "text": [
            "Valores del día (int) \n",
            "4    82951\n",
            "3    75559\n",
            "2    75405\n",
            "1    74437\n",
            "5    68910\n",
            "0    62772\n",
            "6    43698\n",
            "dtype: int64\n",
            "=+=+=+=+=+=+=+=+=+=+=+=+=+=+=+=+=+=+=+=+\n",
            "Valores del día (str) \n",
            "Viernes      82951\n",
            "Jueves       75559\n",
            "Miércoles    75405\n",
            "Martes       74437\n",
            "Sábado       68910\n",
            "Lunes        62772\n",
            "Domingo      43698\n",
            "Name: Día, dtype: int64\n"
          ],
          "name": "stdout"
        }
      ]
    },
    {
      "cell_type": "code",
      "metadata": {
        "id": "lap10IV9EOjh",
        "colab_type": "code",
        "colab": {
          "base_uri": "https://localhost:8080/",
          "height": 102
        },
        "outputId": "15e87cee-486c-4f25-8d22-7b8984245b34"
      },
      "source": [
        "data[\"Periodo_dia\"] = data[\"Periodo_dia\"].astype('category')\n",
        "data[\"Periodo_dia\"].cat.codes.value_counts()"
      ],
      "execution_count": 154,
      "outputs": [
        {
          "output_type": "execute_result",
          "data": {
            "text/plain": [
              "3    159992\n",
              "1    137605\n",
              "2     93098\n",
              "0     93037\n",
              "dtype: int64"
            ]
          },
          "metadata": {
            "tags": []
          },
          "execution_count": 154
        }
      ]
    }
  ]
}