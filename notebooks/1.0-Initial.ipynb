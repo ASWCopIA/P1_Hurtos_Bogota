{
 "cells": [
  {
   "cell_type": "markdown",
   "metadata": {},
   "source": [
    "<h1 style=\"text-align:center; color:#05ABE0\"> Comunidad de práctica IA </h1>\n",
    "\n",
    "### Recursos consultados\n",
    "\n",
    "* [Limpieza de datos](https://elitedatascience.com/data-cleaning)"
   ]
  },
  {
   "cell_type": "code",
   "execution_count": 11,
   "metadata": {},
   "outputs": [],
   "source": [
    "import pandas as pd\n",
    "import numpy as np\n",
    "from matplotlib import pyplot as plt\n",
    "import seaborn as sns"
   ]
  },
  {
   "cell_type": "code",
   "execution_count": 14,
   "metadata": {},
   "outputs": [],
   "source": [
    "# Cargar el dataset de hurtos filtrados por el municipio de Bogota\n",
    "data = pd.read_excel(\"../data/processed/hurtos_bogota_2010-2019.xlsx\")"
   ]
  },
  {
   "cell_type": "code",
   "execution_count": 15,
   "metadata": {},
   "outputs": [
    {
     "output_type": "execute_result",
     "data": {
      "text/plain": "         Año  Mes      Día      Hora                              Barrio  \\\n0       2010  Jan  Viernes  00:00:00                          POLO CLUB    \n1       2010  Jan  Viernes  14:00:00  URB. LA COLINA CAMPESTRE I SECTOR    \n2       2010  Jan  Viernes  09:00:00                         LAS CRUCES    \n3       2010  Jan  Viernes  19:00:00                 JOSE ANTONIO GALAN    \n4       2010  Jan  Viernes  20:00:00                    URB. RINCONCITO    \n...      ...  ...      ...       ...                                 ...   \n483727  2019  Dec   Martes  14:12:00                            MARANTA    \n483728  2019  Dec   Martes  04:08:00                         EL CORTIJO    \n483729  2019  Dec   Martes  04:58:00               CENTRO INTERNACIONAL    \n483730  2019  Dec   Martes  09:23:00                          EL CAMPIN    \n483731  2019  Dec   Martes  12:52:00                            ESCOCIA    \n\n          Zona                 Clase de sitio                Arma empleada  \\\n0       URBANA                  VIAS PUBLICAS                 CONTUNDENTES   \n1       URBANA                         BANCOS          SIN EMPLEO DE ARMAS   \n2       URBANA                  VIAS PUBLICAS  ARMA BLANCA / CORTOPUNZANTE   \n3       URBANA      SOBRE ANDEN - VIA PUBLICA                 CONTUNDENTES   \n4       URBANA                  VIAS PUBLICAS  ARMA BLANCA / CORTOPUNZANTE   \n...        ...                            ...                          ...   \n483727  URBANA                  VIAS PUBLICAS  ARMA BLANCA / CORTOPUNZANTE   \n483728  URBANA  FRENTE CONJUNTO - VIA PUBLICA          SIN EMPLEO DE ARMAS   \n483729  URBANA        ESTABLECIMIENTO PUBLICO                 ESCOPOLAMINA   \n483730  URBANA                       CALLEJÓN  ARMA BLANCA / CORTOPUNZANTE   \n483731  URBANA                  VIAS PUBLICAS          SIN EMPLEO DE ARMAS   \n\n                Móvil Agresor       Móvil Victima Edad       Sexo  \n0                       A PIE  CONDUCTOR VEHICULO   62  MASCULINO  \n1                           -                   -   61   FEMENINO  \n2                       A PIE               A PIE   27  MASCULINO  \n3                       A PIE               A PIE   34   FEMENINO  \n4                       A PIE               A PIE   22   FEMENINO  \n...                       ...                 ...  ...        ...  \n483727                  A PIE      CONDUCTOR TAXI   57   FEMENINO  \n483728     CONDUCTOR VEHICULO  CONDUCTOR VEHICULO   34  MASCULINO  \n483729         CONDUCTOR TAXI       PASAJERO TAXI   29  MASCULINO  \n483730  CONDUCTOR MOTOCICLETA  CONDUCTOR VEHICULO   39  MASCULINO  \n483731  CONDUCTOR MOTOCICLETA               A PIE   25   FEMENINO  \n\n[483732 rows x 12 columns]",
      "text/html": "<div>\n<style scoped>\n    .dataframe tbody tr th:only-of-type {\n        vertical-align: middle;\n    }\n\n    .dataframe tbody tr th {\n        vertical-align: top;\n    }\n\n    .dataframe thead th {\n        text-align: right;\n    }\n</style>\n<table border=\"1\" class=\"dataframe\">\n  <thead>\n    <tr style=\"text-align: right;\">\n      <th></th>\n      <th>Año</th>\n      <th>Mes</th>\n      <th>Día</th>\n      <th>Hora</th>\n      <th>Barrio</th>\n      <th>Zona</th>\n      <th>Clase de sitio</th>\n      <th>Arma empleada</th>\n      <th>Móvil Agresor</th>\n      <th>Móvil Victima</th>\n      <th>Edad</th>\n      <th>Sexo</th>\n    </tr>\n  </thead>\n  <tbody>\n    <tr>\n      <th>0</th>\n      <td>2010</td>\n      <td>Jan</td>\n      <td>Viernes</td>\n      <td>00:00:00</td>\n      <td>POLO CLUB</td>\n      <td>URBANA</td>\n      <td>VIAS PUBLICAS</td>\n      <td>CONTUNDENTES</td>\n      <td>A PIE</td>\n      <td>CONDUCTOR VEHICULO</td>\n      <td>62</td>\n      <td>MASCULINO</td>\n    </tr>\n    <tr>\n      <th>1</th>\n      <td>2010</td>\n      <td>Jan</td>\n      <td>Viernes</td>\n      <td>14:00:00</td>\n      <td>URB. LA COLINA CAMPESTRE I SECTOR</td>\n      <td>URBANA</td>\n      <td>BANCOS</td>\n      <td>SIN EMPLEO DE ARMAS</td>\n      <td>-</td>\n      <td>-</td>\n      <td>61</td>\n      <td>FEMENINO</td>\n    </tr>\n    <tr>\n      <th>2</th>\n      <td>2010</td>\n      <td>Jan</td>\n      <td>Viernes</td>\n      <td>09:00:00</td>\n      <td>LAS CRUCES</td>\n      <td>URBANA</td>\n      <td>VIAS PUBLICAS</td>\n      <td>ARMA BLANCA / CORTOPUNZANTE</td>\n      <td>A PIE</td>\n      <td>A PIE</td>\n      <td>27</td>\n      <td>MASCULINO</td>\n    </tr>\n    <tr>\n      <th>3</th>\n      <td>2010</td>\n      <td>Jan</td>\n      <td>Viernes</td>\n      <td>19:00:00</td>\n      <td>JOSE ANTONIO GALAN</td>\n      <td>URBANA</td>\n      <td>SOBRE ANDEN - VIA PUBLICA</td>\n      <td>CONTUNDENTES</td>\n      <td>A PIE</td>\n      <td>A PIE</td>\n      <td>34</td>\n      <td>FEMENINO</td>\n    </tr>\n    <tr>\n      <th>4</th>\n      <td>2010</td>\n      <td>Jan</td>\n      <td>Viernes</td>\n      <td>20:00:00</td>\n      <td>URB. RINCONCITO</td>\n      <td>URBANA</td>\n      <td>VIAS PUBLICAS</td>\n      <td>ARMA BLANCA / CORTOPUNZANTE</td>\n      <td>A PIE</td>\n      <td>A PIE</td>\n      <td>22</td>\n      <td>FEMENINO</td>\n    </tr>\n    <tr>\n      <th>...</th>\n      <td>...</td>\n      <td>...</td>\n      <td>...</td>\n      <td>...</td>\n      <td>...</td>\n      <td>...</td>\n      <td>...</td>\n      <td>...</td>\n      <td>...</td>\n      <td>...</td>\n      <td>...</td>\n      <td>...</td>\n    </tr>\n    <tr>\n      <th>483727</th>\n      <td>2019</td>\n      <td>Dec</td>\n      <td>Martes</td>\n      <td>14:12:00</td>\n      <td>MARANTA</td>\n      <td>URBANA</td>\n      <td>VIAS PUBLICAS</td>\n      <td>ARMA BLANCA / CORTOPUNZANTE</td>\n      <td>A PIE</td>\n      <td>CONDUCTOR TAXI</td>\n      <td>57</td>\n      <td>FEMENINO</td>\n    </tr>\n    <tr>\n      <th>483728</th>\n      <td>2019</td>\n      <td>Dec</td>\n      <td>Martes</td>\n      <td>04:08:00</td>\n      <td>EL CORTIJO</td>\n      <td>URBANA</td>\n      <td>FRENTE CONJUNTO - VIA PUBLICA</td>\n      <td>SIN EMPLEO DE ARMAS</td>\n      <td>CONDUCTOR VEHICULO</td>\n      <td>CONDUCTOR VEHICULO</td>\n      <td>34</td>\n      <td>MASCULINO</td>\n    </tr>\n    <tr>\n      <th>483729</th>\n      <td>2019</td>\n      <td>Dec</td>\n      <td>Martes</td>\n      <td>04:58:00</td>\n      <td>CENTRO INTERNACIONAL</td>\n      <td>URBANA</td>\n      <td>ESTABLECIMIENTO PUBLICO</td>\n      <td>ESCOPOLAMINA</td>\n      <td>CONDUCTOR TAXI</td>\n      <td>PASAJERO TAXI</td>\n      <td>29</td>\n      <td>MASCULINO</td>\n    </tr>\n    <tr>\n      <th>483730</th>\n      <td>2019</td>\n      <td>Dec</td>\n      <td>Martes</td>\n      <td>09:23:00</td>\n      <td>EL CAMPIN</td>\n      <td>URBANA</td>\n      <td>CALLEJÓN</td>\n      <td>ARMA BLANCA / CORTOPUNZANTE</td>\n      <td>CONDUCTOR MOTOCICLETA</td>\n      <td>CONDUCTOR VEHICULO</td>\n      <td>39</td>\n      <td>MASCULINO</td>\n    </tr>\n    <tr>\n      <th>483731</th>\n      <td>2019</td>\n      <td>Dec</td>\n      <td>Martes</td>\n      <td>12:52:00</td>\n      <td>ESCOCIA</td>\n      <td>URBANA</td>\n      <td>VIAS PUBLICAS</td>\n      <td>SIN EMPLEO DE ARMAS</td>\n      <td>CONDUCTOR MOTOCICLETA</td>\n      <td>A PIE</td>\n      <td>25</td>\n      <td>FEMENINO</td>\n    </tr>\n  </tbody>\n</table>\n<p>483732 rows × 12 columns</p>\n</div>"
     },
     "metadata": {},
     "execution_count": 15
    }
   ],
   "source": [
    "data"
   ]
  }
 ],
 "metadata": {
  "language_info": {
   "codemirror_mode": {
    "name": "ipython",
    "version": 3
   },
   "file_extension": ".py",
   "mimetype": "text/x-python",
   "name": "python",
   "nbconvert_exporter": "python",
   "pygments_lexer": "ipython3",
   "version": "3.7.7-final"
  },
  "orig_nbformat": 2,
  "kernelspec": {
   "name": "python37764bitvenvvenv5c6a943a901c4cefa1e7cbfecfc93f0d",
   "display_name": "Python 3.7.7 64-bit ('.venv': venv)"
  }
 },
 "nbformat": 4,
 "nbformat_minor": 2
}